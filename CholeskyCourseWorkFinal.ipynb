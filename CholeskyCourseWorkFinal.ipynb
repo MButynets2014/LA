{
 "cells": [
  {
   "cell_type": "code",
   "execution_count": 35,
   "metadata": {
    "collapsed": true
   },
   "outputs": [],
   "source": [
    "import numpy as np\n",
    "import pandas as pd\n",
    "from pandas import DataFrame as df\n",
    "import random\n",
    "import math\n",
    "import scipy.linalg as la\n",
    "from numpy.linalg import inv\n",
    "import time"
   ]
  },
  {
   "cell_type": "code",
   "execution_count": 36,
   "metadata": {
    "collapsed": true
   },
   "outputs": [],
   "source": [
    "%matplotlib inline \n",
    "%config InlineBackend.figure_format = 'retina'"
   ]
  },
  {
   "cell_type": "code",
   "execution_count": 37,
   "metadata": {
    "collapsed": true
   },
   "outputs": [],
   "source": [
    "np.set_printoptions(suppress=True)"
   ]
  },
  {
   "cell_type": "code",
   "execution_count": 38,
   "metadata": {
    "collapsed": true
   },
   "outputs": [],
   "source": [
    "# The function generates matrix sizes for a range of numbers\n",
    "def matrixSizesGenerator(start, stop, step):\n",
    "    matrixSizes = list()\n",
    "    for num in range(start, stop, step):\n",
    "        matrixSizes.append(num)\n",
    "    return matrixSizes"
   ]
  },
  {
   "cell_type": "code",
   "execution_count": 39,
   "metadata": {
    "collapsed": true
   },
   "outputs": [],
   "source": [
    "# The function takes tuple as size of the matrix (m*n) and generates zero matrix\n",
    "def zeroMatrixCreator(shape): \n",
    "    zeroMatrix = np.zeros(shape, dtype=np.int64, order='C')\n",
    "    return zeroMatrix"
   ]
  },
  {
   "cell_type": "code",
   "execution_count": 40,
   "metadata": {
    "collapsed": true
   },
   "outputs": [],
   "source": [
    "#The function takes zero matrix as input, and populates it with real random generated numbers in pre-defined range\n",
    "def matrixWithValuesInRange(matrix, minValue, maxValue): \n",
    "    m, n = matrix.shape\n",
    "    for i in range(m):\n",
    "        for j in range(n):\n",
    "            matrix[i,j] = random.randrange(minValue, maxValue)\n",
    "    return matrix.astype(np.int64)\n",
    "    "
   ]
  },
  {
   "cell_type": "code",
   "execution_count": 41,
   "metadata": {
    "collapsed": true
   },
   "outputs": [],
   "source": [
    "#The function takes random generated matrix and produces \n",
    "def positiveSemiDefinite(matrix):\n",
    "    matrixPSD = np.dot(matrix,matrix.transpose()).astype(np.int64)\n",
    "    return matrixPSD\n",
    "    "
   ]
  },
  {
   "cell_type": "code",
   "execution_count": 42,
   "metadata": {
    "collapsed": true
   },
   "outputs": [],
   "source": [
    "#The function implements Cholesky decomposition: A = R*R (R transpose times R). \n",
    "def choleskyM(A):\n",
    "    n = len(A)\n",
    "    R = [[0] * n for i in range(n)]\n",
    "    for i in range(n):\n",
    "        for j in range(n):\n",
    "            s = sum([R[k][i] * R[k][j] for k in range(i)])\n",
    "            if i == j:\n",
    "                #print(s)\n",
    "                R[i][i] = math.sqrt(A[i][i] - s)\n",
    "            if i < j:\n",
    "                R[i][j] = 1/R[i][i] *(A[i][j] - s)\n",
    "    return np.asarray(R).astype(np.float64)"
   ]
  },
  {
   "cell_type": "code",
   "execution_count": 43,
   "metadata": {
    "collapsed": true
   },
   "outputs": [],
   "source": [
    "#The function produces diagonal matrix S. The function takes R matrix as input\n",
    "def diagonalMatrixS(matrixR):\n",
    "    m, n = matrixR.shape\n",
    "    matrixS = zeroMatrixCreator((m, n)).astype(np.float64)\n",
    "    for i in range(m):\n",
    "        for j in range(n):\n",
    "            if i == j:\n",
    "                matrixS[i,j] = (1.0/matrixR[i,j])\n",
    "    return matrixS.astype(np.float64)"
   ]
  },
  {
   "cell_type": "code",
   "execution_count": 44,
   "metadata": {
    "collapsed": true
   },
   "outputs": [],
   "source": [
    "#The function solves the system of linear equations RX = S. \n",
    "#The function takes upper-triangular matrix and diagonal matrix as input\n",
    "def backwardSubstitution(matrixR, matrixS): #rename matrix\n",
    "    m, n = matrixS.shape\n",
    "    xMatrix = zeroMatrixCreator((m, n)).astype(np.float64)\n",
    "    for i in range(m):\n",
    "        #print(i)\n",
    "        c = matrixS[:,i].astype(np.float64)\n",
    "        #print(\"column:\", i, c)\n",
    "        x = la.solve_triangular(matrixR, c)\n",
    "        #x = np.linalg.solve(matrixR,c).astype(np.float64)\n",
    "        #print(\"solutions\", i, x)\n",
    "        #print(np.allclose(np.dot(matrixR, x), c))\n",
    "        xMatrix[i] = x\n",
    "    xMatrix = np.transpose(xMatrix)\n",
    "    return xMatrix"
   ]
  },
  {
   "cell_type": "code",
   "execution_count": 45,
   "metadata": {
    "collapsed": true
   },
   "outputs": [],
   "source": [
    "#The function solves the system of linear equations RX = S. \n",
    "#The function takes lower-triangular matrix and identity matrix as input\n",
    "def forwardSubstitution(matrixR, matrixS): #rename matrix\n",
    "    m, n = matrixS.shape\n",
    "    xMatrix = zeroMatrixCreator((m, n)).astype(np.float64)\n",
    "    for i in range(m):\n",
    "        #print(i)\n",
    "        c = matrixS[:,i].astype(np.float64)\n",
    "        #print(\"column:\", i, c)\n",
    "        x = la.solve_triangular(matrixR, c, lower=True)\n",
    "        #x = np.linalg.solve(matrixR,c).astype(np.float64)\n",
    "        #print(\"solutions\", i, x)\n",
    "        #print(np.allclose(np.dot(matrixR, x), c))\n",
    "        xMatrix[i] = x\n",
    "    xMatrix = np.transpose(xMatrix)\n",
    "    return xMatrix"
   ]
  },
  {
   "cell_type": "code",
   "execution_count": 46,
   "metadata": {
    "collapsed": true
   },
   "outputs": [],
   "source": [
    "#The function enriches the entries below the diagonal with values of above the diagonal of upper-triangular matrix.\n",
    "\n",
    "def enrichRMatrix(matrix):\n",
    "    matrixE = np.copy(matrix)\n",
    "    m, n = matrixE.shape\n",
    "    for i in range(m):\n",
    "        for j in range(n):\n",
    "            if i==j:\n",
    "                #print(matrixE[i][j])\n",
    "                for ij in range(j+1, n):\n",
    "                    #print(\"New\", matrixE[i][ij])\n",
    "                    matrixE[ij][i] = matrixE[i][ij]\n",
    "                    #print(matrixE)\n",
    "    return matrixE"
   ]
  },
  {
   "cell_type": "code",
   "execution_count": 47,
   "metadata": {
    "collapsed": true
   },
   "outputs": [],
   "source": [
    "# The function generates set of semi-positive symetric matrix for a given range of numbers\n",
    "def matricesGeneratorSMP(startSize, endSize, step, mrange):\n",
    "    sizes = matrixSizesGenerator(startSize, endSize, step)\n",
    "    matrixBatch = []\n",
    "    for i in sizes:\n",
    "        matrix = zeroMatrixCreator((i, i))\n",
    "        matrix = matrixWithValuesInRange(matrix, 1, mrange)\n",
    "        matrix = positiveSemiDefinite(matrix)\n",
    "        #print(matrix)\n",
    "        matrixBatch.append(matrix)\n",
    "    return matrixBatch"
   ]
  },
  {
   "cell_type": "code",
   "execution_count": 48,
   "metadata": {
    "collapsed": true
   },
   "outputs": [],
   "source": [
    "#The function executes the Proposed method\n",
    "def executorScenario1(batch, numOfIterations):\n",
    "    print(\"Executor starting time\", time.ctime(int(time.time())))\n",
    "    output = []\n",
    "    procTime = dict()\n",
    "    for matrix in batch:\n",
    "        m, n = matrix.shape\n",
    "        pTimeL = []\n",
    "        for a in range(numOfIterations):\n",
    "            print(\"Size: \", m, \"-\", time.ctime(int(time.time())))\n",
    "            start = time.clock()\n",
    "            R = choleskyM(matrix)\n",
    "            S = diagonalMatrixS(R)\n",
    "            #print(S)\n",
    "            X = backwardSubstitution(R,S)\n",
    "            #print(X)\n",
    "            XE = enrichRMatrix(X)\n",
    "            #print(XE)\n",
    "            pTime = time.clock() - start\n",
    "            pTimeL.append(pTime)\n",
    "        procTime[m] = (sum(pTimeL)/len(pTimeL))\n",
    "        output.append(XE)\n",
    "    print(\"Executor finishing time\", time.ctime(int(time.time())))  \n",
    "    return (procTime, output)"
   ]
  },
  {
   "cell_type": "code",
   "execution_count": 49,
   "metadata": {
    "collapsed": true
   },
   "outputs": [],
   "source": [
    "#The function executes the Existing method\n",
    "def executorScenario2(batch, numOfIterations):\n",
    "    print(\"Executor starting time\", time.ctime(int(time.time())))\n",
    "    output = []\n",
    "    procTime = dict()\n",
    "    for matrix in batch:\n",
    "        m, n = matrix.shape\n",
    "        pTimeL = []\n",
    "        for a in range(numOfIterations):\n",
    "            print(\"Size: \", m, \"-\", time.ctime(int(time.time())))\n",
    "            start = time.clock()\n",
    "            R = choleskyM(matrix)\n",
    "            I = np.eye(m)\n",
    "            #print(I)\n",
    "            B = forwardSubstitution(R.T,I)\n",
    "            #print(B)\n",
    "            X = backwardSubstitution(R,B)\n",
    "            #print(X)\n",
    "            pTime = time.clock() - start\n",
    "            pTimeL.append(pTime)\n",
    "        procTime[m] = (sum(pTimeL)/len(pTimeL))\n",
    "        output.append(X)\n",
    "    print(\"Executor finishing time\", time.ctime(int(time.time())))    \n",
    "    return (procTime, output)"
   ]
  },
  {
   "cell_type": "code",
   "execution_count": 19,
   "metadata": {},
   "outputs": [
    {
     "name": "stdout",
     "output_type": "stream",
     "text": [
      "[[348 185 206 251 203 309 283 312 203 265]\n",
      " [185 145 132 134 119 182 151 205 145 156]\n",
      " [206 132 196 160 139 229 199 221 169 161]\n",
      " [251 134 160 291 166 313 298 243 189 226]\n",
      " [203 119 139 166 187 223 202 178 169 138]\n",
      " [309 182 229 313 223 401 364 319 265 277]\n",
      " [283 151 199 298 202 364 390 264 232 257]\n",
      " [312 205 221 243 178 319 264 396 242 308]\n",
      " [203 145 169 189 169 265 232 242 277 162]\n",
      " [265 156 161 226 138 277 257 308 162 296]]\n",
      "[[31920 25121 25036 ..., 24756 25050 25436]\n",
      " [25121 33273 25777 ..., 25704 25800 26753]\n",
      " [25036 25777 32057 ..., 25538 26319 25957]\n",
      " ..., \n",
      " [24756 25704 25538 ..., 31740 26005 25927]\n",
      " [25050 25800 26319 ..., 26005 32995 26253]\n",
      " [25436 26753 25957 ..., 25927 26253 33377]]\n",
      "[[64748 51048 50409 ..., 50510 51087 51132]\n",
      " [51048 64804 49802 ..., 49957 50478 50643]\n",
      " [50409 49802 62913 ..., 49723 49845 50204]\n",
      " ..., \n",
      " [50510 49957 49723 ..., 62370 49555 49384]\n",
      " [51087 50478 49845 ..., 49555 63658 49729]\n",
      " [51132 50643 50204 ..., 49384 49729 63328]]\n",
      "[[95681 75190 75516 ..., 75240 73742 75092]\n",
      " [75190 94973 74761 ..., 74647 73543 74288]\n",
      " [75516 74761 96133 ..., 74468 74438 74724]\n",
      " ..., \n",
      " [75240 74647 74468 ..., 94638 73479 74307]\n",
      " [73742 73543 74438 ..., 73479 92366 72819]\n",
      " [75092 74288 74724 ..., 74307 72819 94176]]\n",
      "[[126811 101030  98942 ...,  99898 100345  98673]\n",
      " [101030 129445  99923 ..., 101228 101585 101537]\n",
      " [ 98942  99923 125717 ...,  99363  99312  98872]\n",
      " ..., \n",
      " [ 99898 101228  99363 ..., 127145 100000 100088]\n",
      " [100345 101585  99312 ..., 100000 126638  99954]\n",
      " [ 98673 101537  98872 ..., 100088  99954 125416]]\n",
      "[[155805 123164 123440 ..., 123499 123518 122693]\n",
      " [123164 157088 125581 ..., 124691 123491 124186]\n",
      " [123440 125581 159978 ..., 127424 125628 125849]\n",
      " ..., \n",
      " [123499 124691 127424 ..., 159923 124990 126326]\n",
      " [123518 123491 125628 ..., 124990 157104 123134]\n",
      " [122693 124186 125849 ..., 126326 123134 158122]]\n",
      "[[191875 150128 150809 ..., 151762 151908 149630]\n",
      " [150128 189136 149205 ..., 150540 150476 147683]\n",
      " [150809 149205 189356 ..., 151068 150014 147920]\n",
      " ..., \n",
      " [151762 150540 151068 ..., 192318 151814 148143]\n",
      " [151908 150476 150014 ..., 151814 191838 148419]\n",
      " [149630 147683 147920 ..., 148143 148419 185951]]\n",
      "[[223313 175904 174010 ..., 177168 177050 175761]\n",
      " [175904 223056 174910 ..., 176871 177486 175341]\n",
      " [174010 174910 220344 ..., 175197 176558 174772]\n",
      " ..., \n",
      " [177168 176871 175197 ..., 224091 176521 177053]\n",
      " [177050 177486 176558 ..., 176521 223068 177093]\n",
      " [175761 175341 174772 ..., 177053 177093 222347]]\n",
      "[[256111 203593 201532 ..., 201530 200366 201147]\n",
      " [203593 258998 202987 ..., 202757 201893 202003]\n",
      " [201532 202987 254569 ..., 199729 198675 199744]\n",
      " ..., \n",
      " [201530 202757 199729 ..., 252193 196287 199099]\n",
      " [200366 201893 198675 ..., 196287 250115 197010]\n",
      " [201147 202003 199744 ..., 199099 197010 252336]]\n",
      "[[287935 227878 225631 ..., 227327 226816 227948]\n",
      " [227878 288309 225108 ..., 225940 227463 227458]\n",
      " [225631 225108 282597 ..., 226175 223529 223239]\n",
      " ..., \n",
      " [227327 225940 226175 ..., 288977 226832 227423]\n",
      " [226816 227463 223529 ..., 226832 285914 226412]\n",
      " [227948 227458 223239 ..., 227423 226412 287079]]\n"
     ]
    }
   ],
   "source": [
    "batch = matricesGeneratorSMP(10, 10000, 1000, 10)"
   ]
  },
  {
   "cell_type": "code",
   "execution_count": 23,
   "metadata": {},
   "outputs": [
    {
     "name": "stdout",
     "output_type": "stream",
     "text": [
      "[[312 249 279 234 239 188 160 225 250 238]\n",
      " [249 343 288 279 196 230 200 299 308 260]\n",
      " [279 288 418 265 222 225 215 250 334 242]\n",
      " [234 279 265 322 185 186 200 245 239 227]\n",
      " [239 196 222 185 213 126 132 195 213 181]\n",
      " [188 230 225 186 126 219 143 220 222 208]\n",
      " [160 200 215 200 132 143 162 181 210 151]\n",
      " [225 299 250 245 195 220 181 337 288 242]\n",
      " [250 308 334 239 213 222 210 288 348 226]\n",
      " [238 260 242 227 181 208 151 242 226 291]]\n",
      "[[2081 1543 1570 ..., 1848 1767 1645]\n",
      " [1543 1913 1529 ..., 1716 1556 1664]\n",
      " [1570 1529 2094 ..., 1786 1629 1792]\n",
      " ..., \n",
      " [1848 1716 1786 ..., 2353 1880 1883]\n",
      " [1767 1556 1629 ..., 1880 2064 1720]\n",
      " [1645 1664 1792 ..., 1883 1720 2133]]\n",
      "[[3499 2920 2433 ..., 2610 2567 2872]\n",
      " [2920 3677 2695 ..., 2752 2681 3051]\n",
      " [2433 2695 2957 ..., 2302 2289 2516]\n",
      " ..., \n",
      " [2610 2752 2302 ..., 3355 2534 2682]\n",
      " [2567 2681 2289 ..., 2534 3058 2573]\n",
      " [2872 3051 2516 ..., 2682 2573 3559]]\n",
      "[[5354 4022 4006 ..., 4429 4205 4285]\n",
      " [4022 4817 3743 ..., 4131 4105 3902]\n",
      " [4006 3743 4716 ..., 3993 3841 3744]\n",
      " ..., \n",
      " [4429 4131 3993 ..., 5275 4120 4125]\n",
      " [4205 4105 3841 ..., 4120 5167 4114]\n",
      " [4285 3902 3744 ..., 4125 4114 5124]]\n",
      "[[6476 4924 4833 ..., 4952 5303 5052]\n",
      " [4924 5973 4875 ..., 4831 5192 5081]\n",
      " [4833 4875 6113 ..., 4862 5051 4860]\n",
      " ..., \n",
      " [4952 4831 4862 ..., 6307 5054 4983]\n",
      " [5303 5192 5051 ..., 5054 6841 5282]\n",
      " [5052 5081 4860 ..., 4983 5282 6511]]\n",
      "[[8507 6453 6416 ..., 6863 6812 6499]\n",
      " [6453 8219 6291 ..., 6716 6625 6411]\n",
      " [6416 6291 8040 ..., 6614 6538 6278]\n",
      " ..., \n",
      " [6863 6716 6614 ..., 8675 6777 6556]\n",
      " [6812 6625 6538 ..., 6777 8596 6379]\n",
      " [6499 6411 6278 ..., 6556 6379 8225]]\n",
      "[[9504 7149 7566 ..., 7391 7522 7315]\n",
      " [7149 9231 7253 ..., 7319 7351 7398]\n",
      " [7566 7253 9839 ..., 7753 7552 7582]\n",
      " ..., \n",
      " [7391 7319 7753 ..., 9657 7171 7741]\n",
      " [7522 7351 7552 ..., 7171 9574 7462]\n",
      " [7315 7398 7582 ..., 7741 7462 9833]]\n",
      "[[11247  8744  8603 ...,  9140  8920  9499]\n",
      " [ 8744 10971  8328 ...,  8918  8907  9072]\n",
      " [ 8603  8328 10492 ...,  8655  8518  8872]\n",
      " ..., \n",
      " [ 9140  8918  8655 ..., 11596  9358  9431]\n",
      " [ 8920  8907  8518 ...,  9358 11672  9434]\n",
      " [ 9499  9072  8872 ...,  9431  9434 12272]]\n",
      "[[12453 10218 10064 ..., 10310  9860 10165]\n",
      " [10218 12944 10386 ..., 10791 10026 10697]\n",
      " [10064 10386 13155 ..., 10493 10168 10448]\n",
      " ..., \n",
      " [10310 10791 10493 ..., 13702 10310 10937]\n",
      " [ 9860 10026 10168 ..., 10310 12931 10234]\n",
      " [10165 10697 10448 ..., 10937 10234 13339]]\n",
      "[[14856 11881 11502 ..., 11789 11490 11650]\n",
      " [11881 14989 11506 ..., 11878 11782 11730]\n",
      " [11502 11506 14396 ..., 12144 11415 11655]\n",
      " ..., \n",
      " [11789 11878 12144 ..., 14873 11684 11930]\n",
      " [11490 11782 11415 ..., 11684 14407 11595]\n",
      " [11650 11730 11655 ..., 11930 11595 14638]]\n",
      "[[16053 13263 13286 ..., 12895 12336 12637]\n",
      " [13263 16736 13213 ..., 13111 12643 12700]\n",
      " [13286 13213 17051 ..., 13478 12884 13053]\n",
      " ..., \n",
      " [12895 13111 13478 ..., 16708 12398 12824]\n",
      " [12336 12643 12884 ..., 12398 15598 12158]\n",
      " [12637 12700 13053 ..., 12824 12158 16179]]\n",
      "[[18179 14004 14184 ..., 14294 13600 14075]\n",
      " [14004 17084 13605 ..., 13588 13297 13544]\n",
      " [14184 13605 17931 ..., 14073 13831 13722]\n",
      " ..., \n",
      " [14294 13588 14073 ..., 17597 13288 13451]\n",
      " [13600 13297 13831 ..., 13288 16728 12980]\n",
      " [14075 13544 13722 ..., 13451 12980 17637]]\n",
      "[[20698 15449 14927 ..., 15649 15910 15325]\n",
      " [15449 19341 14439 ..., 14738 15706 14516]\n",
      " [14927 14439 17855 ..., 13891 14666 14435]\n",
      " ..., \n",
      " [15649 14738 13891 ..., 18494 15117 14423]\n",
      " [15910 15706 14666 ..., 15117 19920 14899]\n",
      " [15325 14516 14435 ..., 14423 14899 18301]]\n",
      "[[20477 16282 16620 ..., 16562 16612 16424]\n",
      " [16282 19983 16250 ..., 16590 16292 16158]\n",
      " [16620 16250 21644 ..., 17054 16887 17232]\n",
      " ..., \n",
      " [16562 16590 17054 ..., 21347 17018 16961]\n",
      " [16612 16292 16887 ..., 17018 21225 16953]\n",
      " [16424 16158 17232 ..., 16961 16953 21321]]\n",
      "[[24330 18742 18456 ..., 19428 19206 18650]\n",
      " [18742 22688 17795 ..., 18670 18185 18017]\n",
      " [18456 17795 22177 ..., 18374 17944 17783]\n",
      " ..., \n",
      " [19428 18670 18374 ..., 23580 18503 18176]\n",
      " [19206 18185 17944 ..., 18503 23092 17937]\n",
      " [18650 18017 17783 ..., 18176 17937 22513]]\n",
      "[[24181 19663 19717 ..., 19089 19861 19261]\n",
      " [19663 24782 19764 ..., 19151 19796 19690]\n",
      " [19717 19764 24703 ..., 19455 20171 19441]\n",
      " ..., \n",
      " [19089 19151 19455 ..., 24428 19745 19012]\n",
      " [19861 19796 20171 ..., 19745 25134 19787]\n",
      " [19261 19690 19441 ..., 19012 19787 24269]]\n",
      "[[25661 20516 19949 ..., 19921 20241 21330]\n",
      " [20516 25759 19987 ..., 20150 20446 21408]\n",
      " [19949 19987 25376 ..., 20355 20323 21199]\n",
      " ..., \n",
      " [19921 20150 20355 ..., 26340 20403 21149]\n",
      " [20241 20446 20323 ..., 20403 26039 21219]\n",
      " [21330 21408 21199 ..., 21149 21219 27581]]\n",
      "[[28204 22152 21545 ..., 22230 22324 22639]\n",
      " [22152 27271 21726 ..., 21600 21900 22017]\n",
      " [21545 21726 27376 ..., 21356 21442 21866]\n",
      " ..., \n",
      " [22230 21600 21356 ..., 27352 21437 21617]\n",
      " [22324 21900 21442 ..., 21437 27135 22357]\n",
      " [22639 22017 21866 ..., 21617 22357 27865]]\n",
      "[[27970 21880 22156 ..., 22671 22269 22547]\n",
      " [21880 27599 21977 ..., 22318 21976 22266]\n",
      " [22156 21977 28315 ..., 22603 22437 23074]\n",
      " ..., \n",
      " [22671 22318 22603 ..., 29157 22753 23183]\n",
      " [22269 21976 22437 ..., 22753 28273 22889]\n",
      " [22547 22266 23074 ..., 23183 22889 28974]]\n",
      "[[32608 25388 24424 ..., 25594 25451 25184]\n",
      " [25388 31444 24343 ..., 24930 25005 24271]\n",
      " [24424 24343 29912 ..., 23807 24451 23801]\n",
      " ..., \n",
      " [25594 24930 23807 ..., 31377 25098 24779]\n",
      " [25451 25005 24451 ..., 25098 31011 24509]\n",
      " [25184 24271 23801 ..., 24779 24509 30546]]\n"
     ]
    }
   ],
   "source": [
    "batch2 = matricesGeneratorSMP(10, 1000, 50, 10)"
   ]
  },
  {
   "cell_type": "code",
   "execution_count": 24,
   "metadata": {
    "collapsed": true
   },
   "outputs": [],
   "source": [
    "scenario1 = executorScenario1(batch2, 1)"
   ]
  },
  {
   "cell_type": "code",
   "execution_count": 25,
   "metadata": {
    "collapsed": true
   },
   "outputs": [],
   "source": [
    "procTimeSc1, batchOSc1 = scenario1"
   ]
  },
  {
   "cell_type": "code",
   "execution_count": 26,
   "metadata": {},
   "outputs": [
    {
     "data": {
      "text/plain": [
       "{10: 0.002547000000049593,\n",
       " 60: 0.05558100000052946,\n",
       " 110: 0.24546399999962887,\n",
       " 160: 0.691262999999708,\n",
       " 210: 1.5238980000003721,\n",
       " 260: 3.1744089999992866,\n",
       " 310: 4.769304000000375,\n",
       " 360: 8.077478000000156,\n",
       " 410: 12.103360000000066,\n",
       " 460: 17.683375999999953,\n",
       " 510: 22.756054000000404,\n",
       " 560: 31.29052799999954,\n",
       " 610: 41.80482800000027,\n",
       " 660: 49.663110999999844,\n",
       " 710: 63.672537999999804,\n",
       " 760: 74.27662799999962,\n",
       " 810: 97.47289199999977,\n",
       " 860: 114.9629700000005,\n",
       " 910: 124.98208599999998,\n",
       " 960: 145.57753700000012}"
      ]
     },
     "execution_count": 26,
     "metadata": {},
     "output_type": "execute_result"
    }
   ],
   "source": [
    "procTimeSc1"
   ]
  },
  {
   "cell_type": "code",
   "execution_count": 29,
   "metadata": {
    "collapsed": true
   },
   "outputs": [],
   "source": [
    "scenario2 = executorScenario2(batch2, 1)"
   ]
  },
  {
   "cell_type": "code",
   "execution_count": 30,
   "metadata": {
    "collapsed": true
   },
   "outputs": [],
   "source": [
    "procTimeSc2, batchOSc2 = scenario2"
   ]
  },
  {
   "cell_type": "code",
   "execution_count": 31,
   "metadata": {
    "collapsed": true
   },
   "outputs": [],
   "source": [
    "processingTime = {\"Scenario 1\": procTimeSc1, \"Scenario 2\": procTimeSc2, }"
   ]
  },
  {
   "cell_type": "code",
   "execution_count": 32,
   "metadata": {
    "collapsed": true
   },
   "outputs": [],
   "source": [
    "processingTimeDF = df(processingTime)"
   ]
  },
  {
   "cell_type": "code",
   "execution_count": 43,
   "metadata": {},
   "outputs": [
    {
     "data": {
      "text/plain": [
       "<matplotlib.axes._subplots.AxesSubplot at 0x114722630>"
      ]
     },
     "execution_count": 43,
     "metadata": {},
     "output_type": "execute_result"
    },
    {
     "data": {
      "image/png": "[encoded data removed]",
      "text/plain": [
       "<matplotlib.figure.Figure at 0x111cad240>"
      ]
     },
     "metadata": {
      "image/png": {
       "height": 318,
       "width": 600
      }
     },
     "output_type": "display_data"
    }
   ],
   "source": [
    "processingTimeDF.plot(figsize = (10,5), title=\"Processing Time\")"
   ]
  },
  {
   "cell_type": "code",
   "execution_count": 33,
   "metadata": {},
   "outputs": [
    {
     "data": {
      "text/html": [
       "<div>\n",
       "<table border=\"1\" class=\"dataframe\">\n",
       "  <thead>\n",
       "    <tr style=\"text-align: right;\">\n",
       "      <th></th>\n",
       "      <th>Scenario 1</th>\n",
       "      <th>Scenario 2</th>\n",
       "    </tr>\n",
       "  </thead>\n",
       "  <tbody>\n",
       "    <tr>\n",
       "      <th>10</th>\n",
       "      <td>0.002547</td>\n",
       "      <td>0.004077</td>\n",
       "    </tr>\n",
       "    <tr>\n",
       "      <th>60</th>\n",
       "      <td>0.055581</td>\n",
       "      <td>0.056231</td>\n",
       "    </tr>\n",
       "    <tr>\n",
       "      <th>110</th>\n",
       "      <td>0.245464</td>\n",
       "      <td>0.231764</td>\n",
       "    </tr>\n",
       "    <tr>\n",
       "      <th>160</th>\n",
       "      <td>0.691263</td>\n",
       "      <td>0.722228</td>\n",
       "    </tr>\n",
       "    <tr>\n",
       "      <th>210</th>\n",
       "      <td>1.523898</td>\n",
       "      <td>1.670570</td>\n",
       "    </tr>\n",
       "    <tr>\n",
       "      <th>260</th>\n",
       "      <td>3.174409</td>\n",
       "      <td>3.320431</td>\n",
       "    </tr>\n",
       "    <tr>\n",
       "      <th>310</th>\n",
       "      <td>4.769304</td>\n",
       "      <td>4.754379</td>\n",
       "    </tr>\n",
       "    <tr>\n",
       "      <th>360</th>\n",
       "      <td>8.077478</td>\n",
       "      <td>7.595274</td>\n",
       "    </tr>\n",
       "    <tr>\n",
       "      <th>410</th>\n",
       "      <td>12.103360</td>\n",
       "      <td>12.167316</td>\n",
       "    </tr>\n",
       "    <tr>\n",
       "      <th>460</th>\n",
       "      <td>17.683376</td>\n",
       "      <td>16.835988</td>\n",
       "    </tr>\n",
       "    <tr>\n",
       "      <th>510</th>\n",
       "      <td>22.756054</td>\n",
       "      <td>22.813133</td>\n",
       "    </tr>\n",
       "    <tr>\n",
       "      <th>560</th>\n",
       "      <td>31.290528</td>\n",
       "      <td>29.415618</td>\n",
       "    </tr>\n",
       "    <tr>\n",
       "      <th>610</th>\n",
       "      <td>41.804828</td>\n",
       "      <td>38.313586</td>\n",
       "    </tr>\n",
       "    <tr>\n",
       "      <th>660</th>\n",
       "      <td>49.663111</td>\n",
       "      <td>48.764455</td>\n",
       "    </tr>\n",
       "    <tr>\n",
       "      <th>710</th>\n",
       "      <td>63.672538</td>\n",
       "      <td>60.548342</td>\n",
       "    </tr>\n",
       "    <tr>\n",
       "      <th>760</th>\n",
       "      <td>74.276628</td>\n",
       "      <td>74.702089</td>\n",
       "    </tr>\n",
       "    <tr>\n",
       "      <th>810</th>\n",
       "      <td>97.472892</td>\n",
       "      <td>93.830784</td>\n",
       "    </tr>\n",
       "    <tr>\n",
       "      <th>860</th>\n",
       "      <td>114.962970</td>\n",
       "      <td>110.528798</td>\n",
       "    </tr>\n",
       "    <tr>\n",
       "      <th>910</th>\n",
       "      <td>124.982086</td>\n",
       "      <td>139.824512</td>\n",
       "    </tr>\n",
       "    <tr>\n",
       "      <th>960</th>\n",
       "      <td>145.577537</td>\n",
       "      <td>151.020597</td>\n",
       "    </tr>\n",
       "  </tbody>\n",
       "</table>\n",
       "</div>"
      ],
      "text/plain": [
       "     Scenario 1  Scenario 2\n",
       "10     0.002547    0.004077\n",
       "60     0.055581    0.056231\n",
       "110    0.245464    0.231764\n",
       "160    0.691263    0.722228\n",
       "210    1.523898    1.670570\n",
       "260    3.174409    3.320431\n",
       "310    4.769304    4.754379\n",
       "360    8.077478    7.595274\n",
       "410   12.103360   12.167316\n",
       "460   17.683376   16.835988\n",
       "510   22.756054   22.813133\n",
       "560   31.290528   29.415618\n",
       "610   41.804828   38.313586\n",
       "660   49.663111   48.764455\n",
       "710   63.672538   60.548342\n",
       "760   74.276628   74.702089\n",
       "810   97.472892   93.830784\n",
       "860  114.962970  110.528798\n",
       "910  124.982086  139.824512\n",
       "960  145.577537  151.020597"
      ]
     },
     "execution_count": 33,
     "metadata": {},
     "output_type": "execute_result"
    }
   ],
   "source": [
    "processingTimeDF"
   ]
  },
  {
   "cell_type": "code",
   "execution_count": 40,
   "metadata": {},
   "outputs": [
    {
     "name": "stdout",
     "output_type": "stream",
     "text": [
      "[[3374 2529 2599 ..., 2491 2906 2678]\n",
      " [2529 2931 2255 ..., 2371 2630 2417]\n",
      " [2599 2255 3154 ..., 2380 2719 2379]\n",
      " ..., \n",
      " [2491 2371 2380 ..., 3033 2760 2502]\n",
      " [2906 2630 2719 ..., 2760 3477 2646]\n",
      " [2678 2417 2379 ..., 2502 2646 3065]]\n",
      "[[12286  9467  9497 ...,  9584  9877  9794]\n",
      " [ 9467 11591  9372 ...,  9287  9517  9368]\n",
      " [ 9497  9372 12246 ...,  9724 10149  9583]\n",
      " ..., \n",
      " [ 9584  9287  9724 ..., 12232  9911  9229]\n",
      " [ 9877  9517 10149 ...,  9911 13012  9792]\n",
      " [ 9794  9368  9583 ...,  9229  9792 12147]]\n",
      "[[20942 17472 16469 ..., 17177 17295 16647]\n",
      " [17472 23496 18414 ..., 17954 18619 17726]\n",
      " [16469 18414 22426 ..., 17240 18042 17343]\n",
      " ..., \n",
      " [17177 17954 17240 ..., 22138 17998 16986]\n",
      " [17295 18619 18042 ..., 17998 22866 17705]\n",
      " [16647 17726 17343 ..., 16986 17705 21652]]\n",
      "[[32448 25522 24748 ..., 26166 24985 25331]\n",
      " [25522 32029 24291 ..., 25615 24950 25237]\n",
      " [24748 24291 30325 ..., 24959 24034 24484]\n",
      " ..., \n",
      " [26166 25615 24959 ..., 32823 25416 25813]\n",
      " [24985 24950 24034 ..., 25416 31154 24962]\n",
      " [25331 25237 24484 ..., 25813 24962 31919]]\n",
      "[[42822 33227 33428 ..., 33625 33379 34100]\n",
      " [33227 41028 32060 ..., 32489 32838 32681]\n",
      " [33428 32060 41584 ..., 32801 32864 32738]\n",
      " ..., \n",
      " [33625 32489 32801 ..., 41356 33055 32789]\n",
      " [33379 32838 32864 ..., 33055 41489 32724]\n",
      " [34100 32681 32738 ..., 32789 32724 41306]]\n",
      "[[51315 39894 41031 ..., 41082 40654 41162]\n",
      " [39894 49592 39953 ..., 40444 40483 40639]\n",
      " [41031 39953 51257 ..., 41224 40830 41224]\n",
      " ..., \n",
      " [41082 40444 41224 ..., 52450 40535 41441]\n",
      " [40654 40483 40830 ..., 40535 50985 40976]\n",
      " [41162 40639 41224 ..., 41441 40976 52630]]\n",
      "[[60254 46840 46601 ..., 48558 46953 47431]\n",
      " [46840 59061 46701 ..., 47893 46587 47301]\n",
      " [46601 46701 58826 ..., 47927 46053 46477]\n",
      " ..., \n",
      " [48558 47893 47927 ..., 61930 48155 48194]\n",
      " [46953 46587 46053 ..., 48155 59604 47268]\n",
      " [47431 47301 46477 ..., 48194 47268 59191]]\n"
     ]
    }
   ],
   "source": [
    "batch3 = matricesGeneratorSMP(100, 2000, 300, 10)"
   ]
  },
  {
   "cell_type": "code",
   "execution_count": 60,
   "metadata": {},
   "outputs": [
    {
     "name": "stdout",
     "output_type": "stream",
     "text": [
      "Executor starting time Thu Dec 14 00:19:08 2017\n",
      "Size:  100 - Thu Dec 14 00:19:08 2017\n",
      "Size:  400 - Thu Dec 14 00:19:08 2017\n",
      "Size:  700 - Thu Dec 14 00:19:18 2017\n",
      "Size:  1000 - Thu Dec 14 00:20:22 2017\n",
      "Size:  1300 - Thu Dec 14 00:23:34 2017\n",
      "Size:  1600 - Thu Dec 14 00:30:20 2017\n",
      "Size:  1900 - Thu Dec 14 00:44:03 2017\n",
      "Executor ending time Thu Dec 14 01:05:11 2017\n"
     ]
    }
   ],
   "source": [
    "scenario3 = executorScenario1(batch3, 1)"
   ]
  },
  {
   "cell_type": "code",
   "execution_count": 61,
   "metadata": {
    "collapsed": true
   },
   "outputs": [],
   "source": [
    "procTimeSc3, batchOSc3 = scenario3"
   ]
  },
  {
   "cell_type": "code",
   "execution_count": 62,
   "metadata": {},
   "outputs": [
    {
     "data": {
      "text/plain": [
       "{100: 0.18808899999930873,\n",
       " 400: 10.401168000000325,\n",
       " 700: 62.31818200000089,\n",
       " 1000: 188.42526399999952,\n",
       " 1300: 399.63356700000077,\n",
       " 1600: 797.0748799999983,\n",
       " 1900: 1257.8015879999984}"
      ]
     },
     "execution_count": 62,
     "metadata": {},
     "output_type": "execute_result"
    }
   ],
   "source": [
    "procTimeSc3"
   ]
  },
  {
   "cell_type": "code",
   "execution_count": 64,
   "metadata": {},
   "outputs": [
    {
     "name": "stdout",
     "output_type": "stream",
     "text": [
      "Executor starting time Thu Dec 14 10:07:30 2017\n",
      "Size:  100 - Thu Dec 14 10:07:30 2017\n",
      "Size:  400 - Thu Dec 14 10:07:30 2017\n",
      "Size:  700 - Thu Dec 14 10:07:40 2017\n",
      "Size:  1000 - Thu Dec 14 10:08:54 2017\n",
      "Size:  1300 - Thu Dec 14 10:12:12 2017\n",
      "Size:  1600 - Thu Dec 14 10:19:40 2017\n",
      "Size:  1900 - Thu Dec 14 10:32:35 2017\n",
      "Executor finishing time Thu Dec 14 10:56:23 2017\n"
     ]
    }
   ],
   "source": [
    "scenario4 = executorScenario2(batch3, 1)"
   ]
  },
  {
   "cell_type": "code",
   "execution_count": 65,
   "metadata": {
    "collapsed": true
   },
   "outputs": [],
   "source": [
    "procTimeSc4, batchOSc4 = scenario4"
   ]
  },
  {
   "cell_type": "code",
   "execution_count": 66,
   "metadata": {},
   "outputs": [
    {
     "data": {
      "text/plain": [
       "{100: 0.2548220000026049,\n",
       " 400: 12.256473000001279,\n",
       " 700: 65.39476500000092,\n",
       " 1000: 195.87558300000092,\n",
       " 1300: 436.0163390000016,\n",
       " 1600: 765.2371200000016,\n",
       " 1900: 1390.4659900000006}"
      ]
     },
     "execution_count": 66,
     "metadata": {},
     "output_type": "execute_result"
    }
   ],
   "source": [
    "procTimeSc4"
   ]
  },
  {
   "cell_type": "code",
   "execution_count": 67,
   "metadata": {
    "collapsed": true
   },
   "outputs": [],
   "source": [
    "processingTime2 = {\"Scenario 1\": procTimeSc3, \"Scenario 2\": procTimeSc4, }"
   ]
  },
  {
   "cell_type": "code",
   "execution_count": 68,
   "metadata": {
    "collapsed": true
   },
   "outputs": [],
   "source": [
    "processingTimeDF2 = df(processingTime2)"
   ]
  },
  {
   "cell_type": "code",
   "execution_count": 70,
   "metadata": {},
   "outputs": [
    {
     "data": {
      "text/html": [
       "<div>\n",
       "<table border=\"1\" class=\"dataframe\">\n",
       "  <thead>\n",
       "    <tr style=\"text-align: right;\">\n",
       "      <th></th>\n",
       "      <th>Scenario 1</th>\n",
       "      <th>Scenario 2</th>\n",
       "    </tr>\n",
       "  </thead>\n",
       "  <tbody>\n",
       "    <tr>\n",
       "      <th>100</th>\n",
       "      <td>0.188089</td>\n",
       "      <td>0.254822</td>\n",
       "    </tr>\n",
       "    <tr>\n",
       "      <th>400</th>\n",
       "      <td>10.401168</td>\n",
       "      <td>12.256473</td>\n",
       "    </tr>\n",
       "    <tr>\n",
       "      <th>700</th>\n",
       "      <td>62.318182</td>\n",
       "      <td>65.394765</td>\n",
       "    </tr>\n",
       "    <tr>\n",
       "      <th>1000</th>\n",
       "      <td>188.425264</td>\n",
       "      <td>195.875583</td>\n",
       "    </tr>\n",
       "    <tr>\n",
       "      <th>1300</th>\n",
       "      <td>399.633567</td>\n",
       "      <td>436.016339</td>\n",
       "    </tr>\n",
       "    <tr>\n",
       "      <th>1600</th>\n",
       "      <td>797.074880</td>\n",
       "      <td>765.237120</td>\n",
       "    </tr>\n",
       "    <tr>\n",
       "      <th>1900</th>\n",
       "      <td>1257.801588</td>\n",
       "      <td>1390.465990</td>\n",
       "    </tr>\n",
       "  </tbody>\n",
       "</table>\n",
       "</div>"
      ],
      "text/plain": [
       "       Scenario 1   Scenario 2\n",
       "100      0.188089     0.254822\n",
       "400     10.401168    12.256473\n",
       "700     62.318182    65.394765\n",
       "1000   188.425264   195.875583\n",
       "1300   399.633567   436.016339\n",
       "1600   797.074880   765.237120\n",
       "1900  1257.801588  1390.465990"
      ]
     },
     "execution_count": 70,
     "metadata": {},
     "output_type": "execute_result"
    }
   ],
   "source": [
    "processingTimeDF2"
   ]
  },
  {
   "cell_type": "code",
   "execution_count": 69,
   "metadata": {},
   "outputs": [
    {
     "data": {
      "text/plain": [
       "<matplotlib.axes._subplots.AxesSubplot at 0x11475f1d0>"
      ]
     },
     "execution_count": 69,
     "metadata": {},
     "output_type": "execute_result"
    },
    {
     "data": {
      "image/png": "[encoded data removed]",
      "text/plain": [
       "<matplotlib.figure.Figure at 0x115b30208>"
      ]
     },
     "metadata": {
      "image/png": {
       "height": 318,
       "width": 606
      }
     },
     "output_type": "display_data"
    }
   ],
   "source": [
    "processingTimeDF2.plot(figsize = (10,5), title=\"Processing Time\")"
   ]
  },
  {
   "cell_type": "code",
   "execution_count": null,
   "metadata": {
    "collapsed": true
   },
   "outputs": [],
   "source": [
    "# The function of forward substitution was built but was not incorporated into existing code due to the lack of time\n",
    "def forward_substitution(L, b):\n",
    "    n = len(L)\n",
    "    y = [[0]  for i in range(n)]\n",
    "    for i in range(n):\n",
    "        y[i] = b[i]\n",
    "        for j in range(i):\n",
    "            y[i] -= L[i][j] * y[i]\n",
    "    return y"
   ]
  },
  {
   "cell_type": "code",
   "execution_count": null,
   "metadata": {
    "collapsed": true
   },
   "outputs": [],
   "source": [
    "# The function of back substitution was built but was not incorporated into existing code due to the lack of time\n",
    "def back_substitution(U, y):\n",
    "    n = len(U)\n",
    "    x = [[0]  for i in range(n)]\n",
    "    for i in range(n,0,-1):\n",
    "        x[i] = y[i]\n",
    "        for j in range(i + 1, n):\n",
    "            x[i] = x[i] - U[i][j]\n",
    "        x[i] = x[i]/U[i][i]\n",
    "    return x"
   ]
  }
 ],
 "metadata": {
  "kernelspec": {
   "display_name": "Python 3",
   "language": "python",
   "name": "python3"
  },
  "language_info": {
   "codemirror_mode": {
    "name": "ipython",
    "version": 3
   },
   "file_extension": ".py",
   "mimetype": "text/x-python",
   "name": "python",
   "nbconvert_exporter": "python",
   "pygments_lexer": "ipython3",
   "version": "3.6.0"
  }
 },
 "nbformat": 4,
 "nbformat_minor": 2
}
